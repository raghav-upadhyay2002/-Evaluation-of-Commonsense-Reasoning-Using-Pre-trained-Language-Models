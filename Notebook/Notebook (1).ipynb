{
  "nbformat": 4,
  "nbformat_minor": 0,
  "metadata": {
    "colab": {
      "provenance": []
    },
    "kernelspec": {
      "name": "python3",
      "display_name": "Python 3"
    },
    "language_info": {
      "name": "python"
    }
  },
  "cells": [
    {
      "cell_type": "code",
      "source": [
        "# Install required libraries\n",
        "!pip install transformers datasets torch"
      ],
      "metadata": {
        "id": "KXhRKSqw0AeT",
        "colab": {
          "base_uri": "https://localhost:8080/"
        },
        "outputId": "a6e3cead-5349-4289-cf15-b2282a92004b"
      },
      "execution_count": 8,
      "outputs": [
        {
          "output_type": "stream",
          "name": "stdout",
          "text": [
            "Requirement already satisfied: transformers in /usr/local/lib/python3.10/dist-packages (4.46.3)\n",
            "Requirement already satisfied: datasets in /usr/local/lib/python3.10/dist-packages (3.1.0)\n",
            "Requirement already satisfied: torch in /usr/local/lib/python3.10/dist-packages (2.5.1+cu121)\n",
            "Requirement already satisfied: filelock in /usr/local/lib/python3.10/dist-packages (from transformers) (3.16.1)\n",
            "Requirement already satisfied: huggingface-hub<1.0,>=0.23.2 in /usr/local/lib/python3.10/dist-packages (from transformers) (0.26.3)\n",
            "Requirement already satisfied: numpy>=1.17 in /usr/local/lib/python3.10/dist-packages (from transformers) (1.26.4)\n",
            "Requirement already satisfied: packaging>=20.0 in /usr/local/lib/python3.10/dist-packages (from transformers) (24.2)\n",
            "Requirement already satisfied: pyyaml>=5.1 in /usr/local/lib/python3.10/dist-packages (from transformers) (6.0.2)\n",
            "Requirement already satisfied: regex!=2019.12.17 in /usr/local/lib/python3.10/dist-packages (from transformers) (2024.9.11)\n",
            "Requirement already satisfied: requests in /usr/local/lib/python3.10/dist-packages (from transformers) (2.32.3)\n",
            "Requirement already satisfied: tokenizers<0.21,>=0.20 in /usr/local/lib/python3.10/dist-packages (from transformers) (0.20.3)\n",
            "Requirement already satisfied: safetensors>=0.4.1 in /usr/local/lib/python3.10/dist-packages (from transformers) (0.4.5)\n",
            "Requirement already satisfied: tqdm>=4.27 in /usr/local/lib/python3.10/dist-packages (from transformers) (4.66.6)\n",
            "Requirement already satisfied: pyarrow>=15.0.0 in /usr/local/lib/python3.10/dist-packages (from datasets) (17.0.0)\n",
            "Requirement already satisfied: dill<0.3.9,>=0.3.0 in /usr/local/lib/python3.10/dist-packages (from datasets) (0.3.8)\n",
            "Requirement already satisfied: pandas in /usr/local/lib/python3.10/dist-packages (from datasets) (2.2.2)\n",
            "Requirement already satisfied: xxhash in /usr/local/lib/python3.10/dist-packages (from datasets) (3.5.0)\n",
            "Requirement already satisfied: multiprocess<0.70.17 in /usr/local/lib/python3.10/dist-packages (from datasets) (0.70.16)\n",
            "Requirement already satisfied: fsspec<=2024.9.0,>=2023.1.0 in /usr/local/lib/python3.10/dist-packages (from fsspec[http]<=2024.9.0,>=2023.1.0->datasets) (2024.9.0)\n",
            "Requirement already satisfied: aiohttp in /usr/local/lib/python3.10/dist-packages (from datasets) (3.11.9)\n",
            "Requirement already satisfied: typing-extensions>=4.8.0 in /usr/local/lib/python3.10/dist-packages (from torch) (4.12.2)\n",
            "Requirement already satisfied: networkx in /usr/local/lib/python3.10/dist-packages (from torch) (3.4.2)\n",
            "Requirement already satisfied: jinja2 in /usr/local/lib/python3.10/dist-packages (from torch) (3.1.4)\n",
            "Requirement already satisfied: sympy==1.13.1 in /usr/local/lib/python3.10/dist-packages (from torch) (1.13.1)\n",
            "Requirement already satisfied: mpmath<1.4,>=1.1.0 in /usr/local/lib/python3.10/dist-packages (from sympy==1.13.1->torch) (1.3.0)\n",
            "Requirement already satisfied: aiohappyeyeballs>=2.3.0 in /usr/local/lib/python3.10/dist-packages (from aiohttp->datasets) (2.4.4)\n",
            "Requirement already satisfied: aiosignal>=1.1.2 in /usr/local/lib/python3.10/dist-packages (from aiohttp->datasets) (1.3.1)\n",
            "Requirement already satisfied: async-timeout<6.0,>=4.0 in /usr/local/lib/python3.10/dist-packages (from aiohttp->datasets) (4.0.3)\n",
            "Requirement already satisfied: attrs>=17.3.0 in /usr/local/lib/python3.10/dist-packages (from aiohttp->datasets) (24.2.0)\n",
            "Requirement already satisfied: frozenlist>=1.1.1 in /usr/local/lib/python3.10/dist-packages (from aiohttp->datasets) (1.5.0)\n",
            "Requirement already satisfied: multidict<7.0,>=4.5 in /usr/local/lib/python3.10/dist-packages (from aiohttp->datasets) (6.1.0)\n",
            "Requirement already satisfied: propcache>=0.2.0 in /usr/local/lib/python3.10/dist-packages (from aiohttp->datasets) (0.2.1)\n",
            "Requirement already satisfied: yarl<2.0,>=1.17.0 in /usr/local/lib/python3.10/dist-packages (from aiohttp->datasets) (1.18.3)\n",
            "Requirement already satisfied: charset-normalizer<4,>=2 in /usr/local/lib/python3.10/dist-packages (from requests->transformers) (3.4.0)\n",
            "Requirement already satisfied: idna<4,>=2.5 in /usr/local/lib/python3.10/dist-packages (from requests->transformers) (3.10)\n",
            "Requirement already satisfied: urllib3<3,>=1.21.1 in /usr/local/lib/python3.10/dist-packages (from requests->transformers) (2.2.3)\n",
            "Requirement already satisfied: certifi>=2017.4.17 in /usr/local/lib/python3.10/dist-packages (from requests->transformers) (2024.8.30)\n",
            "Requirement already satisfied: MarkupSafe>=2.0 in /usr/local/lib/python3.10/dist-packages (from jinja2->torch) (3.0.2)\n",
            "Requirement already satisfied: python-dateutil>=2.8.2 in /usr/local/lib/python3.10/dist-packages (from pandas->datasets) (2.8.2)\n",
            "Requirement already satisfied: pytz>=2020.1 in /usr/local/lib/python3.10/dist-packages (from pandas->datasets) (2024.2)\n",
            "Requirement already satisfied: tzdata>=2022.7 in /usr/local/lib/python3.10/dist-packages (from pandas->datasets) (2024.2)\n",
            "Requirement already satisfied: six>=1.5 in /usr/local/lib/python3.10/dist-packages (from python-dateutil>=2.8.2->pandas->datasets) (1.16.0)\n"
          ]
        }
      ]
    },
    {
      "cell_type": "markdown",
      "source": [
        "# Libraries"
      ],
      "metadata": {
        "id": "0hGYthTA5GfQ"
      }
    },
    {
      "cell_type": "code",
      "source": [
        "# Import necessary libraries\n",
        "import torch\n",
        "from transformers import pipeline\n",
        "from datasets import load_dataset"
      ],
      "metadata": {
        "id": "uuYVvVKT3lgk"
      },
      "execution_count": 9,
      "outputs": []
    },
    {
      "cell_type": "markdown",
      "source": [
        "# Import Dataset\n",
        "Cite- The Hugging Face Datasets library\n",
        "\n",
        "URL: https://github.com/huggingface/datasets"
      ],
      "metadata": {
        "id": "tS-ciVHx5R7L"
      }
    },
    {
      "cell_type": "code",
      "source": [
        "#Load the PIQA Dataset\n",
        "print(\"Loading PIQA dataset...\")\n",
        "piqa = load_dataset(\"piqa\")\n",
        "\n",
        "#Access the validation set for evaluation\n",
        "validation_data = piqa['validation']\n",
        "\n",
        "#Inspect a sample\n",
        "print(validation_data[0])"
      ],
      "metadata": {
        "id": "g-F0L-Nk3li-",
        "colab": {
          "base_uri": "https://localhost:8080/"
        },
        "outputId": "5a9a4598-ab40-4660-d86a-1998112534f0"
      },
      "execution_count": 10,
      "outputs": [
        {
          "output_type": "stream",
          "name": "stdout",
          "text": [
            "Loading PIQA dataset...\n",
            "{'goal': \"How do I ready a guinea pig cage for it's new occupants?\", 'sol1': 'Provide the guinea pig with a cage full of a few inches of bedding made of ripped paper strips, you will also need to supply it with a water bottle and a food dish.', 'sol2': 'Provide the guinea pig with a cage full of a few inches of bedding made of ripped jeans material, you will also need to supply it with a water bottle and a food dish.', 'label': 0}\n"
          ]
        }
      ]
    },
    {
      "cell_type": "markdown",
      "source": [
        "# Evaluation Function And Accuracy Function\n",
        "Citation for the function logic and methodology: Adapted from general principles in transformer-based text classification using the Hugging Face Transformers library.\n",
        "\n",
        "URL: https://huggingface.co/docs/transformers/main/en/task_summary#text-classification\n",
        "\n"
      ],
      "metadata": {
        "id": "IKRSy03N5fzJ"
      }
    },
    {
      "cell_type": "code",
      "source": [
        "# Define Evaluation Function\n",
        "def evaluate_model(data, classifier, model_name, max_examples=20):\n",
        "    correct = 0\n",
        "    total = 0\n",
        "\n",
        "    print(f\"Evaluating model: {model_name}\")\n",
        "    for example in data.select(range(max_examples)):\n",
        "        goal = example['goal']\n",
        "        sol1 = example['sol1']\n",
        "        sol2 = example['sol2']\n",
        "\n",
        "        # Use the model to score each solution in the context of the goal\n",
        "        input_1 = f\"Question: {goal} Answer: {sol1}\"\n",
        "        input_2 = f\"Question: {goal} Answer: {sol2}\"\n",
        "\n",
        "        result_1 = classifier(input_1, truncation=True, max_length=512)[0]['score']\n",
        "        result_2 = classifier(input_2, truncation=True, max_length=512)[0]['score']\n",
        "\n",
        "        # Select the higher scoring solution as the prediction\n",
        "        prediction = 1 if result_1 > result_2 else 2\n",
        "        correct_solution = 1 if example['label'] == 0 else 2\n",
        "\n",
        "        # Compare prediction with correct label\n",
        "        if prediction == correct_solution:\n",
        "            correct += 1\n",
        "        total += 1\n",
        "\n",
        "        print(f\"Goal: {goal}\")\n",
        "        print(f\"  Solution 1: {sol1} -> Score: {result_1:.3f}\")\n",
        "        print(f\"  Solution 2: {sol2} -> Score: {result_2:.3f}\")\n",
        "        print(f\"  Prediction: Solution {prediction}, Correct: Solution {correct_solution}\")\n",
        "        print(\"-\" * 50)\n",
        "\n",
        "    # Calculate accuracy\n",
        "    accuracy = correct / total * 100\n",
        "    print(f\"Accuracy of {model_name} on {total} Examples: {accuracy:.2f}%\")\n",
        "    return accuracy"
      ],
      "metadata": {
        "id": "9iXthxyw3lll"
      },
      "execution_count": 11,
      "outputs": []
    },
    {
      "cell_type": "markdown",
      "source": [
        "# Model-1\n",
        "Citation for Hugging Face Transformers library:\n",
        "Hugging Face. \"Transformers: State-of-the-art Machine Learning for Pytorch, TensorFlow, and JAX.\"\n",
        "\n",
        "URL: https://github.com/huggingface/transformers\n"
      ],
      "metadata": {
        "id": "MXGpZ2XK5vQs"
      }
    },
    {
      "cell_type": "code",
      "source": [
        "#Load the First Model\n",
        "print(\"Loading the first pre-trained model...\")\n",
        "model_1 = \"facebook/opt-1.3b\"\n",
        "classifier_1 = pipeline(\"text-classification\",\n",
        "                        model=model_1,\n",
        "                        device=0 if torch.cuda.is_available() else -1)\n",
        "\n",
        "# Evaluate the first model\n",
        "accuracy_1 = evaluate_model(validation_data, classifier_1, model_1, max_examples=20)"
      ],
      "metadata": {
        "id": "YEtNpXuz3ln8",
        "colab": {
          "base_uri": "https://localhost:8080/"
        },
        "collapsed": true,
        "outputId": "7986e2cd-a85d-4aa8-d036-ff419f09cc74"
      },
      "execution_count": 12,
      "outputs": [
        {
          "output_type": "stream",
          "name": "stdout",
          "text": [
            "Loading the first pre-trained model...\n"
          ]
        },
        {
          "output_type": "stream",
          "name": "stderr",
          "text": [
            "Some weights of OPTForSequenceClassification were not initialized from the model checkpoint at facebook/opt-1.3b and are newly initialized: ['score.weight']\n",
            "You should probably TRAIN this model on a down-stream task to be able to use it for predictions and inference.\n"
          ]
        },
        {
          "output_type": "stream",
          "name": "stdout",
          "text": [
            "Evaluating model: facebook/opt-1.3b\n",
            "Goal: How do I ready a guinea pig cage for it's new occupants?\n",
            "  Solution 1: Provide the guinea pig with a cage full of a few inches of bedding made of ripped paper strips, you will also need to supply it with a water bottle and a food dish. -> Score: 0.643\n",
            "  Solution 2: Provide the guinea pig with a cage full of a few inches of bedding made of ripped jeans material, you will also need to supply it with a water bottle and a food dish. -> Score: 0.603\n",
            "  Prediction: Solution 1, Correct: Solution 1\n",
            "--------------------------------------------------\n",
            "Goal: dresser\n",
            "  Solution 1: replace drawer with bobby pin  -> Score: 0.629\n",
            "  Solution 2: finish, woodgrain with  bobby pin  -> Score: 0.692\n",
            "  Prediction: Solution 2, Correct: Solution 2\n",
            "--------------------------------------------------\n",
            "Goal: To fight Ivan Drago in Rocky for sega master system.\n",
            "  Solution 1: Drago isn't in this game because it was released before Rocky IV. -> Score: 0.747\n",
            "  Solution 2: You have to defeat Apollo Creed and Clubber Lang first. -> Score: 0.687\n",
            "  Prediction: Solution 1, Correct: Solution 2\n",
            "--------------------------------------------------\n",
            "Goal: Make outdoor pillow.\n",
            "  Solution 1: Blow into tin can and tie with rubber band. -> Score: 0.916\n",
            "  Solution 2: Blow into trash bag and tie with rubber band. -> Score: 0.916\n",
            "  Prediction: Solution 2, Correct: Solution 2\n",
            "--------------------------------------------------\n",
            "Goal: ice box\n",
            "  Solution 1: will turn into a cooler if you add water to it -> Score: 0.774\n",
            "  Solution 2: will turn into a cooler if you add soda to it -> Score: 0.750\n",
            "  Prediction: Solution 1, Correct: Solution 1\n",
            "--------------------------------------------------\n",
            "Goal: Remove soap scum from shower door.\n",
            "  Solution 1: Rub hard with bed sheets, then rinse. -> Score: 0.756\n",
            "  Solution 2: Rub hard with dryer sheets, then rinse. -> Score: 0.692\n",
            "  Prediction: Solution 1, Correct: Solution 2\n",
            "--------------------------------------------------\n",
            "Goal: Recycle a spray bottle for a new cleaner.\n",
            "  Solution 1: Open the top of the empty spray bottle and check for damage. Rinse the bottle then fill halfway with warm water. Replace the spray nozzle and pump a few times to clear the hose. Empty sparrow bottle and allow to dry before using with a new cleaner. -> Score: 0.895\n",
            "  Solution 2: Open the top of the empty spray bottle and check for damage. Rinse the bottle then fill halfway with warm water. Replace the spray nozzle and pump a few times to clear the hose. Empty spray bottle and allow to dry before using with a new cleaner. -> Score: 0.887\n",
            "  Prediction: Solution 1, Correct: Solution 2\n",
            "--------------------------------------------------\n",
            "Goal: How do you attach toilet paper to a glass jar?\n",
            "  Solution 1: Press a piece of double-sided tape to the glass jar and then press the toilet paper onto the tape. -> Score: 0.927\n",
            "  Solution 2: Spread mayonnaise all over the jar with your palms and then roll the jar in toilet paper. -> Score: 0.902\n",
            "  Prediction: Solution 1, Correct: Solution 1\n",
            "--------------------------------------------------\n",
            "Goal: How to make tissue paper window decorations?\n",
            "  Solution 1: Find tissue paper and fold it in half. Take scissors and cut out pieces of the paper in the middle. When you are done tape it to your window. -> Score: 0.982\n",
            "  Solution 2: Find tissue paper and fold it in half. Take scissors and tear out pieces of the paper in the middle. When you are done tape it to your window. -> Score: 0.981\n",
            "  Prediction: Solution 1, Correct: Solution 1\n",
            "--------------------------------------------------\n",
            "Goal: Neatly wrap up an extension cord.\n",
            "  Solution 1: Wrap the cord around your hand and elbow. -> Score: 0.803\n",
            "  Solution 2: Wrap the cord around your hand and knee. -> Score: 0.804\n",
            "  Prediction: Solution 2, Correct: Solution 1\n",
            "--------------------------------------------------\n",
            "Goal: Extend life of flowers in vase.\n",
            "  Solution 1: Add small amount of coffee in vase. -> Score: 0.845\n",
            "  Solution 2: Add small amount of 7UP in vase. -> Score: 0.871\n",
            "  Prediction: Solution 2, Correct: Solution 2\n",
            "--------------------------------------------------\n",
            "Goal: how do you put eyelashes on?\n",
            "  Solution 1: glue them on with mascara. -> Score: 0.894\n",
            "  Solution 2: put eyelash glue on the fake eyelashes and then let it get tacky. then, place it on top of your actual eyelashes and let it dry on. -> Score: 0.734\n",
            "  Prediction: Solution 1, Correct: Solution 2\n",
            "--------------------------------------------------\n",
            "Goal: Find spices easily in the kitchen.\n",
            "  Solution 1: Arrange spices from hot to mild in the kitchen in order to find them by taste. -> Score: 0.697\n",
            "  Solution 2: Arrange your spices alphabetically to make finding them easy. -> Score: 0.789\n",
            "  Prediction: Solution 2, Correct: Solution 2\n",
            "--------------------------------------------------\n",
            "Goal: peeler\n",
            "  Solution 1: can be used as a decoration on a television  -> Score: 0.601\n",
            "  Solution 2: can be used as a decoration on a sock  -> Score: 0.556\n",
            "  Prediction: Solution 1, Correct: Solution 1\n",
            "--------------------------------------------------\n",
            "Goal: How to clean blinds without tearing them up\n",
            "  Solution 1: Place a cloth on each side of a pair of tongs. -> Score: 0.815\n",
            "  Solution 2: Find a feather duster, and cut the feathers off every two inches. -> Score: 0.700\n",
            "  Prediction: Solution 1, Correct: Solution 1\n",
            "--------------------------------------------------\n",
            "Goal: What material is a steel rocking chair made out of?\n",
            "  Solution 1: The frame is steel and then fabric can be added if you wish. -> Score: 0.713\n",
            "  Solution 2: The frame is plastic and fabric can be added if you wish -> Score: 0.611\n",
            "  Prediction: Solution 1, Correct: Solution 1\n",
            "--------------------------------------------------\n",
            "Goal: To get a video game console for a cheap price,\n",
            "  Solution 1: look for the console on a website that sells used goods. -> Score: 0.637\n",
            "  Solution 2: look up which console is the cheapest one in store. -> Score: 0.561\n",
            "  Prediction: Solution 1, Correct: Solution 1\n",
            "--------------------------------------------------\n",
            "Goal: How do you properly prepare a steak.\n",
            "  Solution 1: Take the steak out of warm storage and let come to room temperature, generously add salt and pepper to both sides and let sit for 10 minutes. -> Score: 0.580\n",
            "  Solution 2: Take the steak out of cold storage and let come to room temperature, generously add salt and pepper to both sides and let sit for 10 minutes. -> Score: 0.591\n",
            "  Prediction: Solution 2, Correct: Solution 2\n",
            "--------------------------------------------------\n",
            "Goal: To cream butter and sugar together, you can\n",
            "  Solution 1: Place it in a bowl and use a hand warmer -> Score: 0.629\n",
            "  Solution 2: Place in a bowl and use a hand mixer -> Score: 0.913\n",
            "  Prediction: Solution 2, Correct: Solution 2\n",
            "--------------------------------------------------\n",
            "Goal: How to best cut the meat to place on a grill?\n",
            "  Solution 1: Place a knife on the grill for around 15 minutes for the blade to be red hot. Gently push the knife through the meat to get a perfect cut. -> Score: 0.622\n",
            "  Solution 2: Use a sharp knife or scissor and cut the meat properly as per the required size. -> Score: 0.536\n",
            "  Prediction: Solution 1, Correct: Solution 2\n",
            "--------------------------------------------------\n",
            "Accuracy of facebook/opt-1.3b on 20 Examples: 70.00%\n"
          ]
        }
      ]
    },
    {
      "cell_type": "markdown",
      "source": [
        "# Model-2\n",
        "Citation for Hugging Face Transformers library: Hugging Face. \"Transformers: State-of-the-art Machine Learning for Pytorch, TensorFlow, and JAX.\"\n",
        "\n",
        "URL: https://github.com/huggingface/transformers"
      ],
      "metadata": {
        "id": "gJ_Af7Zx6MNX"
      }
    },
    {
      "cell_type": "code",
      "source": [
        "# Load the Second Model\n",
        "print(\"Loading the second pre-trained model...\")\n",
        "model_2 = \"roberta-large-mnli\"\n",
        "classifier_2 = pipeline(\"text-classification\",\n",
        "                        model=model_2,\n",
        "                        device=0 if torch.cuda.is_available() else -1)\n",
        "\n",
        "# Evaluate the second model\n",
        "accuracy_2 = evaluate_model(validation_data, classifier_2, model_2, max_examples=20)"
      ],
      "metadata": {
        "id": "dr66HSBl3lqD",
        "colab": {
          "base_uri": "https://localhost:8080/"
        },
        "collapsed": true,
        "outputId": "34bf4b5d-078a-4c3a-c1a4-390e75be9012"
      },
      "execution_count": 13,
      "outputs": [
        {
          "output_type": "stream",
          "name": "stdout",
          "text": [
            "Loading the second pre-trained model...\n"
          ]
        },
        {
          "output_type": "stream",
          "name": "stderr",
          "text": [
            "Some weights of the model checkpoint at roberta-large-mnli were not used when initializing RobertaForSequenceClassification: ['roberta.pooler.dense.bias', 'roberta.pooler.dense.weight']\n",
            "- This IS expected if you are initializing RobertaForSequenceClassification from the checkpoint of a model trained on another task or with another architecture (e.g. initializing a BertForSequenceClassification model from a BertForPreTraining model).\n",
            "- This IS NOT expected if you are initializing RobertaForSequenceClassification from the checkpoint of a model that you expect to be exactly identical (initializing a BertForSequenceClassification model from a BertForSequenceClassification model).\n"
          ]
        },
        {
          "output_type": "stream",
          "name": "stdout",
          "text": [
            "Evaluating model: roberta-large-mnli\n",
            "Goal: How do I ready a guinea pig cage for it's new occupants?\n",
            "  Solution 1: Provide the guinea pig with a cage full of a few inches of bedding made of ripped paper strips, you will also need to supply it with a water bottle and a food dish. -> Score: 0.997\n",
            "  Solution 2: Provide the guinea pig with a cage full of a few inches of bedding made of ripped jeans material, you will also need to supply it with a water bottle and a food dish. -> Score: 0.997\n",
            "  Prediction: Solution 1, Correct: Solution 1\n",
            "--------------------------------------------------\n",
            "Goal: dresser\n",
            "  Solution 1: replace drawer with bobby pin  -> Score: 0.533\n",
            "  Solution 2: finish, woodgrain with  bobby pin  -> Score: 0.567\n",
            "  Prediction: Solution 2, Correct: Solution 2\n",
            "--------------------------------------------------\n",
            "Goal: To fight Ivan Drago in Rocky for sega master system.\n",
            "  Solution 1: Drago isn't in this game because it was released before Rocky IV. -> Score: 0.552\n",
            "  Solution 2: You have to defeat Apollo Creed and Clubber Lang first. -> Score: 0.874\n",
            "  Prediction: Solution 2, Correct: Solution 2\n",
            "--------------------------------------------------\n",
            "Goal: Make outdoor pillow.\n",
            "  Solution 1: Blow into tin can and tie with rubber band. -> Score: 0.717\n",
            "  Solution 2: Blow into trash bag and tie with rubber band. -> Score: 0.756\n",
            "  Prediction: Solution 2, Correct: Solution 2\n",
            "--------------------------------------------------\n",
            "Goal: ice box\n",
            "  Solution 1: will turn into a cooler if you add water to it -> Score: 0.779\n",
            "  Solution 2: will turn into a cooler if you add soda to it -> Score: 0.779\n",
            "  Prediction: Solution 2, Correct: Solution 1\n",
            "--------------------------------------------------\n",
            "Goal: Remove soap scum from shower door.\n",
            "  Solution 1: Rub hard with bed sheets, then rinse. -> Score: 0.937\n",
            "  Solution 2: Rub hard with dryer sheets, then rinse. -> Score: 0.918\n",
            "  Prediction: Solution 1, Correct: Solution 2\n",
            "--------------------------------------------------\n",
            "Goal: Recycle a spray bottle for a new cleaner.\n",
            "  Solution 1: Open the top of the empty spray bottle and check for damage. Rinse the bottle then fill halfway with warm water. Replace the spray nozzle and pump a few times to clear the hose. Empty sparrow bottle and allow to dry before using with a new cleaner. -> Score: 0.490\n",
            "  Solution 2: Open the top of the empty spray bottle and check for damage. Rinse the bottle then fill halfway with warm water. Replace the spray nozzle and pump a few times to clear the hose. Empty spray bottle and allow to dry before using with a new cleaner. -> Score: 0.471\n",
            "  Prediction: Solution 1, Correct: Solution 2\n",
            "--------------------------------------------------\n",
            "Goal: How do you attach toilet paper to a glass jar?\n",
            "  Solution 1: Press a piece of double-sided tape to the glass jar and then press the toilet paper onto the tape. -> Score: 0.788\n",
            "  Solution 2: Spread mayonnaise all over the jar with your palms and then roll the jar in toilet paper. -> Score: 0.880\n",
            "  Prediction: Solution 2, Correct: Solution 1\n",
            "--------------------------------------------------\n",
            "Goal: How to make tissue paper window decorations?\n",
            "  Solution 1: Find tissue paper and fold it in half. Take scissors and cut out pieces of the paper in the middle. When you are done tape it to your window. -> Score: 0.974\n",
            "  Solution 2: Find tissue paper and fold it in half. Take scissors and tear out pieces of the paper in the middle. When you are done tape it to your window. -> Score: 0.977\n",
            "  Prediction: Solution 2, Correct: Solution 1\n",
            "--------------------------------------------------\n",
            "Goal: Neatly wrap up an extension cord.\n",
            "  Solution 1: Wrap the cord around your hand and elbow. -> Score: 0.835\n",
            "  Solution 2: Wrap the cord around your hand and knee. -> Score: 0.822\n",
            "  Prediction: Solution 1, Correct: Solution 1\n",
            "--------------------------------------------------\n",
            "Goal: Extend life of flowers in vase.\n",
            "  Solution 1: Add small amount of coffee in vase. -> Score: 0.862\n",
            "  Solution 2: Add small amount of 7UP in vase. -> Score: 0.886\n",
            "  Prediction: Solution 2, Correct: Solution 2\n",
            "--------------------------------------------------\n",
            "Goal: how do you put eyelashes on?\n",
            "  Solution 1: glue them on with mascara. -> Score: 0.936\n",
            "  Solution 2: put eyelash glue on the fake eyelashes and then let it get tacky. then, place it on top of your actual eyelashes and let it dry on. -> Score: 0.948\n",
            "  Prediction: Solution 2, Correct: Solution 2\n",
            "--------------------------------------------------\n",
            "Goal: Find spices easily in the kitchen.\n",
            "  Solution 1: Arrange spices from hot to mild in the kitchen in order to find them by taste. -> Score: 0.870\n",
            "  Solution 2: Arrange your spices alphabetically to make finding them easy. -> Score: 0.905\n",
            "  Prediction: Solution 2, Correct: Solution 2\n",
            "--------------------------------------------------\n",
            "Goal: peeler\n",
            "  Solution 1: can be used as a decoration on a television  -> Score: 0.592\n",
            "  Solution 2: can be used as a decoration on a sock  -> Score: 0.655\n",
            "  Prediction: Solution 2, Correct: Solution 1\n",
            "--------------------------------------------------\n",
            "Goal: How to clean blinds without tearing them up\n",
            "  Solution 1: Place a cloth on each side of a pair of tongs. -> Score: 0.756\n",
            "  Solution 2: Find a feather duster, and cut the feathers off every two inches. -> Score: 0.817\n",
            "  Prediction: Solution 2, Correct: Solution 1\n",
            "--------------------------------------------------\n",
            "Goal: What material is a steel rocking chair made out of?\n",
            "  Solution 1: The frame is steel and then fabric can be added if you wish. -> Score: 0.987\n",
            "  Solution 2: The frame is plastic and fabric can be added if you wish -> Score: 0.949\n",
            "  Prediction: Solution 1, Correct: Solution 1\n",
            "--------------------------------------------------\n",
            "Goal: To get a video game console for a cheap price,\n",
            "  Solution 1: look for the console on a website that sells used goods. -> Score: 0.647\n",
            "  Solution 2: look up which console is the cheapest one in store. -> Score: 0.720\n",
            "  Prediction: Solution 2, Correct: Solution 1\n",
            "--------------------------------------------------\n",
            "Goal: How do you properly prepare a steak.\n",
            "  Solution 1: Take the steak out of warm storage and let come to room temperature, generously add salt and pepper to both sides and let sit for 10 minutes. -> Score: 0.906\n",
            "  Solution 2: Take the steak out of cold storage and let come to room temperature, generously add salt and pepper to both sides and let sit for 10 minutes. -> Score: 0.909\n",
            "  Prediction: Solution 2, Correct: Solution 2\n",
            "--------------------------------------------------\n",
            "Goal: To cream butter and sugar together, you can\n",
            "  Solution 1: Place it in a bowl and use a hand warmer -> Score: 0.709\n",
            "  Solution 2: Place in a bowl and use a hand mixer -> Score: 0.804\n",
            "  Prediction: Solution 2, Correct: Solution 2\n",
            "--------------------------------------------------\n",
            "Goal: How to best cut the meat to place on a grill?\n",
            "  Solution 1: Place a knife on the grill for around 15 minutes for the blade to be red hot. Gently push the knife through the meat to get a perfect cut. -> Score: 0.958\n",
            "  Solution 2: Use a sharp knife or scissor and cut the meat properly as per the required size. -> Score: 0.848\n",
            "  Prediction: Solution 1, Correct: Solution 2\n",
            "--------------------------------------------------\n",
            "Accuracy of roberta-large-mnli on 20 Examples: 55.00%\n"
          ]
        }
      ]
    },
    {
      "cell_type": "code",
      "source": [
        "# Compare Results\n",
        "print(\"\\nComparison of Model Performance:\")\n",
        "print(f\"Model 1 ({model_1}): {accuracy_1:.2f}% accuracy\")\n",
        "print(f\"Model 2 ({model_2}): {accuracy_2:.2f}% accuracy\")"
      ],
      "metadata": {
        "id": "9zS2dgfQ3lsW",
        "colab": {
          "base_uri": "https://localhost:8080/"
        },
        "outputId": "6ddbf697-e26f-45cc-a10f-64c138974e49"
      },
      "execution_count": 14,
      "outputs": [
        {
          "output_type": "stream",
          "name": "stdout",
          "text": [
            "\n",
            "Comparison of Model Performance:\n",
            "Model 1 (facebook/opt-1.3b): 70.00% accuracy\n",
            "Model 2 (roberta-large-mnli): 55.00% accuracy\n"
          ]
        }
      ]
    }
  ]
}